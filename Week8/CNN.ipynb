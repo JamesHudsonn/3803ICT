{
  "cells": [
    {
      "cell_type": "code",
      "source": [
        "# TODO: Load the dataset\n",
        "from tensorflow.keras.datasets import fashion_mnist\n",
        "\n",
        "#TODO: load dataset\n",
        "(X_train, y_train), (X_test, y_test) = fashion_mnist.load_data()\n",
        "\n",
        "X_train.shape"
      ],
      "metadata": {
        "id": "iq7Kmm5bl-0z",
        "outputId": "b24113bd-9965-43ef-8c89-fd5d842be350",
        "colab": {
          "base_uri": "https://localhost:8080/"
        }
      },
      "execution_count": 3,
      "outputs": [
        {
          "output_type": "stream",
          "name": "stdout",
          "text": [
            "Downloading data from https://storage.googleapis.com/tensorflow/tf-keras-datasets/train-labels-idx1-ubyte.gz\n",
            "29515/29515 [==============================] - 0s 0us/step\n",
            "Downloading data from https://storage.googleapis.com/tensorflow/tf-keras-datasets/train-images-idx3-ubyte.gz\n",
            "26421880/26421880 [==============================] - 0s 0us/step\n",
            "Downloading data from https://storage.googleapis.com/tensorflow/tf-keras-datasets/t10k-labels-idx1-ubyte.gz\n",
            "5148/5148 [==============================] - 0s 0us/step\n",
            "Downloading data from https://storage.googleapis.com/tensorflow/tf-keras-datasets/t10k-images-idx3-ubyte.gz\n",
            "4422102/4422102 [==============================] - 0s 0us/step\n"
          ]
        },
        {
          "output_type": "execute_result",
          "data": {
            "text/plain": [
              "(60000, 28, 28)"
            ]
          },
          "metadata": {},
          "execution_count": 3
        }
      ]
    },
    {
      "cell_type": "code",
      "source": [
        "# TODO: Explore the data, display some input images\n",
        "%matplotlib inline\n",
        "import matplotlib.pyplot as plt\n",
        "import numpy as np\n",
        "\n",
        "label_class = ['top', 'trouser', 'pullover', 'dress', 'coat', 'sandal', 'shirt', 'sneaker', 'bag', 'ankle boot']\n",
        "\n",
        "# np.random.seed(0)\n",
        "idx = np.random.randint(X_train.shape[0])\n",
        "\n",
        "plt.imshow(X_train[idx], cmap='gray_r')\n",
        "plt.title(label_class[y_train[idx]])\n",
        "plt.show()"
      ],
      "metadata": {
        "id": "fr9J4OH8mTUH",
        "outputId": "9961e3dd-2e16-4890-b626-6a3abbcccdcd",
        "colab": {
          "base_uri": "https://localhost:8080/",
          "height": 452
        }
      },
      "execution_count": 4,
      "outputs": [
        {
          "output_type": "display_data",
          "data": {
            "text/plain": [
              "<Figure size 640x480 with 1 Axes>"
            ],
            "image/png": "[encoded data removed]"
          },
          "metadata": {}
        }
      ]
    },
    {
      "cell_type": "code",
      "source": [
        "# TODO: Make the data preparation\n",
        "from tensorflow.keras.utils import to_categorical\n",
        "\n",
        "y_train_cat = to_categorical(y_train, num_classes = 10)\n",
        "y_test_cat = to_categorical(y_test, num_classes = 10)\n",
        "\n",
        "X_train_norm = X_train/255\n",
        "X_test_norm = X_test/255\n",
        "\n",
        "# TODO: reshape the image data (2D array) into input 1D array for a neural network\n",
        "X_train_norm = X_train_norm.reshape(X_train_norm.shape[0], X_train_norm.shape[1], X_train_norm.shape[2], 1)\n",
        "X_test_norm = X_test_norm.reshape(X_test_norm.shape[0], X_test_norm.shape[1], X_test_norm.shape[2], 1)\n",
        "X_train_norm.shape"
      ],
      "metadata": {
        "id": "niSiDwYOmWat",
        "outputId": "ab80416d-ddee-4239-dbda-e53bcac21d0f",
        "colab": {
          "base_uri": "https://localhost:8080/"
        }
      },
      "execution_count": 5,
      "outputs": [
        {
          "output_type": "execute_result",
          "data": {
            "text/plain": [
              "(60000, 28, 28, 1)"
            ]
          },
          "metadata": {},
          "execution_count": 5
        }
      ]
    },
    {
      "cell_type": "code",
      "source": [
        "# TODO: Build your model\n",
        "from tensorflow.keras.models import Sequential\n",
        "from tensorflow.keras.layers import MaxPooling2D, Conv2D, Flatten, Dense\n",
        "\n",
        "\n",
        "def lenet5():\n",
        "    \n",
        "    model = Sequential()\n",
        "\n",
        "    # Layer C1\n",
        "    model.add(Conv2D(filters=6, name='C1', kernel_size=(3, 3), activation='relu', input_shape=(28,28,1)))\n",
        "    # Layer S2\n",
        "    model.add(MaxPooling2D(pool_size=(2, 2), name='S2'))\n",
        "    # Layer C3\n",
        "    model.add(Conv2D(filters=16, name='C3', kernel_size=(3, 3), activation='relu'))\n",
        "    # Layer S4\n",
        "    model.add(MaxPooling2D(pool_size=(2, 2), name='S4'))\n",
        "    # Before going into layer C5, we flatten our units\n",
        "    model.add(Flatten())\n",
        "    # Layer C5\n",
        "    model.add(Dense(120, activation='relu', name='c5'))\n",
        "    # Layer F6\n",
        "    model.add(Dense(84, activation='relu', name='c6'))\n",
        "    # Output layer\n",
        "    model.add(Dense(units=10, activation = 'softmax'))\n",
        "    \n",
        "    return model\n",
        "\n",
        "lenet5().summary()"
      ],
      "metadata": {
        "id": "1fKu8DIgmYVC",
        "outputId": "b8d3a151-6807-4f2e-b4cf-759010269675",
        "colab": {
          "base_uri": "https://localhost:8080/"
        }
      },
      "execution_count": 6,
      "outputs": [
        {
          "output_type": "stream",
          "name": "stdout",
          "text": [
            "Model: \"sequential\"\n",
            "_________________________________________________________________\n",
            " Layer (type)                Output Shape              Param #   \n",
            "=================================================================\n",
            " C1 (Conv2D)                 (None, 26, 26, 6)         60        \n",
            "                                                                 \n",
            " S2 (MaxPooling2D)           (None, 13, 13, 6)         0         \n",
            "                                                                 \n",
            " C3 (Conv2D)                 (None, 11, 11, 16)        880       \n",
            "                                                                 \n",
            " S4 (MaxPooling2D)           (None, 5, 5, 16)          0         \n",
            "                                                                 \n",
            " flatten (Flatten)           (None, 400)               0         \n",
            "                                                                 \n",
            " c5 (Dense)                  (None, 120)               48120     \n",
            "                                                                 \n",
            " c6 (Dense)                  (None, 84)                10164     \n",
            "                                                                 \n",
            " dense (Dense)               (None, 10)                850       \n",
            "                                                                 \n",
            "=================================================================\n",
            "Total params: 60,074\n",
            "Trainable params: 60,074\n",
            "Non-trainable params: 0\n",
            "_________________________________________________________________\n"
          ]
        }
      ]
    },
    {
      "cell_type": "code",
      "source": [
        "# TODO: Compile and fit your model\n",
        "import os\n",
        "\n",
        "# os.environ['KMP_DUPLICATE_LIB_OK']='True' #https://stackoverflow.com/questions/53014306/error-15-initializing-libiomp5-dylib-but-found-libiomp5-dylib-already-initial\n",
        "\n",
        "\n",
        "from tensorflow.keras.callbacks import EarlyStopping\n",
        "from tensorflow.keras.callbacks import TensorBoard\n",
        "\n",
        "model = lenet5()\n",
        "\n",
        "model.compile(optimizer='adam', loss='categorical_crossentropy', metrics=['accuracy'])\n",
        "\n",
        "# Define now our callbacks\n",
        "# callbacks = [EarlyStopping(monitor='val_loss', patience=10), TensorBoard(log_dir='./keras-logs', histogram_freq=0, write_graph=True, write_images=True)]\n",
        "callbacks = [EarlyStopping(monitor='val_loss', patience=10)]\n",
        "\n",
        "# Finally fit the model\n",
        "model.fit(x=X_train_norm, y=y_train_cat, validation_data=(X_test_norm, y_test_cat), epochs=50, batch_size=2048, callbacks=callbacks)"
      ],
      "metadata": {
        "id": "BcTyXP6lpNRr",
        "outputId": "7d64dd4c-7a8e-48ee-f4e3-90192f86b7ba",
        "colab": {
          "base_uri": "https://localhost:8080/"
        }
      },
      "execution_count": 7,
      "outputs": [
        {
          "output_type": "stream",
          "name": "stdout",
          "text": [
            "Epoch 1/50\n",
            "30/30 [==============================] - 28s 882ms/step - loss: 1.7091 - accuracy: 0.5469 - val_loss: 0.9454 - val_accuracy: 0.6724\n",
            "Epoch 2/50\n",
            "30/30 [==============================] - 24s 773ms/step - loss: 0.7747 - accuracy: 0.7167 - val_loss: 0.6664 - val_accuracy: 0.7558\n",
            "Epoch 3/50\n",
            "30/30 [==============================] - 20s 685ms/step - loss: 0.5964 - accuracy: 0.7759 - val_loss: 0.5727 - val_accuracy: 0.7819\n",
            "Epoch 4/50\n",
            "30/30 [==============================] - 20s 662ms/step - loss: 0.5282 - accuracy: 0.8023 - val_loss: 0.5192 - val_accuracy: 0.8054\n",
            "Epoch 5/50\n",
            "30/30 [==============================] - 19s 624ms/step - loss: 0.4904 - accuracy: 0.8194 - val_loss: 0.4954 - val_accuracy: 0.8210\n",
            "Epoch 6/50\n",
            "30/30 [==============================] - 20s 667ms/step - loss: 0.4555 - accuracy: 0.8379 - val_loss: 0.4620 - val_accuracy: 0.8371\n",
            "Epoch 7/50\n",
            "30/30 [==============================] - 18s 620ms/step - loss: 0.4329 - accuracy: 0.8471 - val_loss: 0.4543 - val_accuracy: 0.8336\n",
            "Epoch 8/50\n",
            "30/30 [==============================] - 20s 683ms/step - loss: 0.4236 - accuracy: 0.8486 - val_loss: 0.4340 - val_accuracy: 0.8413\n",
            "Epoch 9/50\n",
            "30/30 [==============================] - 19s 634ms/step - loss: 0.4036 - accuracy: 0.8581 - val_loss: 0.4237 - val_accuracy: 0.8498\n",
            "Epoch 10/50\n",
            "30/30 [==============================] - 20s 673ms/step - loss: 0.3912 - accuracy: 0.8632 - val_loss: 0.4169 - val_accuracy: 0.8500\n",
            "Epoch 11/50\n",
            "30/30 [==============================] - 19s 619ms/step - loss: 0.3822 - accuracy: 0.8658 - val_loss: 0.3972 - val_accuracy: 0.8596\n",
            "Epoch 12/50\n",
            "30/30 [==============================] - 19s 620ms/step - loss: 0.3710 - accuracy: 0.8692 - val_loss: 0.3874 - val_accuracy: 0.8600\n",
            "Epoch 13/50\n",
            "30/30 [==============================] - 20s 647ms/step - loss: 0.3634 - accuracy: 0.8719 - val_loss: 0.4021 - val_accuracy: 0.8546\n",
            "Epoch 14/50\n",
            "30/30 [==============================] - 18s 615ms/step - loss: 0.3693 - accuracy: 0.8677 - val_loss: 0.3952 - val_accuracy: 0.8572\n",
            "Epoch 15/50\n",
            "30/30 [==============================] - 20s 671ms/step - loss: 0.3580 - accuracy: 0.8719 - val_loss: 0.3706 - val_accuracy: 0.8701\n",
            "Epoch 16/50\n",
            "30/30 [==============================] - 19s 628ms/step - loss: 0.3481 - accuracy: 0.8766 - val_loss: 0.3690 - val_accuracy: 0.8688\n",
            "Epoch 17/50\n",
            "30/30 [==============================] - 20s 683ms/step - loss: 0.3437 - accuracy: 0.8792 - val_loss: 0.3611 - val_accuracy: 0.8701\n",
            "Epoch 18/50\n",
            "30/30 [==============================] - 19s 627ms/step - loss: 0.3351 - accuracy: 0.8811 - val_loss: 0.3574 - val_accuracy: 0.8723\n",
            "Epoch 19/50\n",
            "30/30 [==============================] - 20s 682ms/step - loss: 0.3327 - accuracy: 0.8824 - val_loss: 0.3565 - val_accuracy: 0.8717\n",
            "Epoch 20/50\n",
            "30/30 [==============================] - 19s 621ms/step - loss: 0.3293 - accuracy: 0.8835 - val_loss: 0.3566 - val_accuracy: 0.8718\n",
            "Epoch 21/50\n",
            "30/30 [==============================] - 19s 627ms/step - loss: 0.3247 - accuracy: 0.8839 - val_loss: 0.3589 - val_accuracy: 0.8688\n",
            "Epoch 22/50\n",
            "30/30 [==============================] - 20s 662ms/step - loss: 0.3206 - accuracy: 0.8862 - val_loss: 0.3453 - val_accuracy: 0.8776\n",
            "Epoch 23/50\n",
            "30/30 [==============================] - 19s 624ms/step - loss: 0.3157 - accuracy: 0.8874 - val_loss: 0.3428 - val_accuracy: 0.8780\n",
            "Epoch 24/50\n",
            "30/30 [==============================] - 23s 769ms/step - loss: 0.3144 - accuracy: 0.8882 - val_loss: 0.3373 - val_accuracy: 0.8803\n",
            "Epoch 25/50\n",
            "30/30 [==============================] - 19s 631ms/step - loss: 0.3125 - accuracy: 0.8878 - val_loss: 0.3387 - val_accuracy: 0.8782\n",
            "Epoch 26/50\n",
            "30/30 [==============================] - 20s 677ms/step - loss: 0.3086 - accuracy: 0.8898 - val_loss: 0.3377 - val_accuracy: 0.8794\n",
            "Epoch 27/50\n",
            "30/30 [==============================] - 19s 632ms/step - loss: 0.3045 - accuracy: 0.8910 - val_loss: 0.3340 - val_accuracy: 0.8806\n",
            "Epoch 28/50\n",
            "30/30 [==============================] - 20s 679ms/step - loss: 0.3032 - accuracy: 0.8909 - val_loss: 0.3382 - val_accuracy: 0.8806\n",
            "Epoch 29/50\n",
            "30/30 [==============================] - 19s 622ms/step - loss: 0.3016 - accuracy: 0.8915 - val_loss: 0.3258 - val_accuracy: 0.8855\n",
            "Epoch 30/50\n",
            "30/30 [==============================] - 20s 677ms/step - loss: 0.2953 - accuracy: 0.8945 - val_loss: 0.3284 - val_accuracy: 0.8827\n",
            "Epoch 31/50\n",
            "30/30 [==============================] - 19s 626ms/step - loss: 0.2951 - accuracy: 0.8938 - val_loss: 0.3486 - val_accuracy: 0.8747\n",
            "Epoch 32/50\n",
            "30/30 [==============================] - 20s 677ms/step - loss: 0.2980 - accuracy: 0.8925 - val_loss: 0.3287 - val_accuracy: 0.8798\n",
            "Epoch 33/50\n",
            "30/30 [==============================] - 19s 634ms/step - loss: 0.2882 - accuracy: 0.8959 - val_loss: 0.3192 - val_accuracy: 0.8873\n",
            "Epoch 34/50\n",
            "30/30 [==============================] - 19s 634ms/step - loss: 0.2852 - accuracy: 0.8961 - val_loss: 0.3190 - val_accuracy: 0.8850\n",
            "Epoch 35/50\n",
            "30/30 [==============================] - 20s 647ms/step - loss: 0.2813 - accuracy: 0.8987 - val_loss: 0.3177 - val_accuracy: 0.8872\n",
            "Epoch 36/50\n",
            "30/30 [==============================] - 19s 620ms/step - loss: 0.2816 - accuracy: 0.8972 - val_loss: 0.3213 - val_accuracy: 0.8826\n",
            "Epoch 37/50\n",
            "30/30 [==============================] - 20s 683ms/step - loss: 0.2798 - accuracy: 0.8986 - val_loss: 0.3178 - val_accuracy: 0.8856\n",
            "Epoch 38/50\n",
            "30/30 [==============================] - 19s 631ms/step - loss: 0.2742 - accuracy: 0.9004 - val_loss: 0.3119 - val_accuracy: 0.8880\n",
            "Epoch 39/50\n",
            "30/30 [==============================] - 20s 684ms/step - loss: 0.2724 - accuracy: 0.9017 - val_loss: 0.3073 - val_accuracy: 0.8923\n",
            "Epoch 40/50\n",
            "30/30 [==============================] - 19s 632ms/step - loss: 0.2698 - accuracy: 0.9026 - val_loss: 0.3209 - val_accuracy: 0.8858\n",
            "Epoch 41/50\n",
            "30/30 [==============================] - 21s 694ms/step - loss: 0.2751 - accuracy: 0.9003 - val_loss: 0.3083 - val_accuracy: 0.8878\n",
            "Epoch 42/50\n",
            "30/30 [==============================] - 19s 621ms/step - loss: 0.2681 - accuracy: 0.9020 - val_loss: 0.3057 - val_accuracy: 0.8912\n",
            "Epoch 43/50\n",
            "30/30 [==============================] - 19s 646ms/step - loss: 0.2637 - accuracy: 0.9044 - val_loss: 0.3025 - val_accuracy: 0.8925\n",
            "Epoch 44/50\n",
            "30/30 [==============================] - 20s 651ms/step - loss: 0.2669 - accuracy: 0.9030 - val_loss: 0.3129 - val_accuracy: 0.8865\n",
            "Epoch 45/50\n",
            "30/30 [==============================] - 19s 635ms/step - loss: 0.2608 - accuracy: 0.9046 - val_loss: 0.3124 - val_accuracy: 0.8913\n",
            "Epoch 46/50\n",
            "30/30 [==============================] - 20s 685ms/step - loss: 0.2629 - accuracy: 0.9047 - val_loss: 0.2994 - val_accuracy: 0.8944\n",
            "Epoch 47/50\n",
            "30/30 [==============================] - 19s 638ms/step - loss: 0.2571 - accuracy: 0.9063 - val_loss: 0.2962 - val_accuracy: 0.8958\n",
            "Epoch 48/50\n",
            "30/30 [==============================] - 20s 683ms/step - loss: 0.2546 - accuracy: 0.9072 - val_loss: 0.2990 - val_accuracy: 0.8943\n",
            "Epoch 49/50\n",
            "30/30 [==============================] - 19s 629ms/step - loss: 0.2554 - accuracy: 0.9071 - val_loss: 0.3074 - val_accuracy: 0.8906\n",
            "Epoch 50/50\n",
            "30/30 [==============================] - 20s 674ms/step - loss: 0.2561 - accuracy: 0.9059 - val_loss: 0.2976 - val_accuracy: 0.8929\n"
          ]
        },
        {
          "output_type": "execute_result",
          "data": {
            "text/plain": [
              "<keras.callbacks.History at 0x7fd77d11d540>"
            ]
          },
          "metadata": {},
          "execution_count": 7
        }
      ]
    },
    {
      "cell_type": "code",
      "source": [
        "# TODO: Compute the accuracy of your model\n",
        "from sklearn.metrics import accuracy_score\n",
        "\n",
        "batch_size = 1024\n",
        "y_pred_train = to_categorical(model.predict(X_train_norm, batch_size=batch_size).argmax(axis=1), num_classes=10)\n",
        "y_pred_test = to_categorical(model.predict(X_test_norm, batch_size=batch_size).argmax(axis=1), num_classes=10)\n",
        "\n",
        "print('accuracy on train with NN:', accuracy_score(y_pred_train, y_train_cat))\n",
        "print('accuracy on test with NN:', accuracy_score(y_pred_test, y_test_cat))"
      ],
      "metadata": {
        "id": "ri9ob33mpXye",
        "outputId": "82af2d16-79cd-4dd0-9e41-30965e24a729",
        "colab": {
          "base_uri": "https://localhost:8080/"
        }
      },
      "execution_count": 8,
      "outputs": [
        {
          "output_type": "stream",
          "name": "stdout",
          "text": [
            "59/59 [==============================] - 7s 120ms/step\n",
            "10/10 [==============================] - 1s 108ms/step\n",
            "accuracy on train with NN: 0.9093166666666667\n",
            "accuracy on test with NN: 0.8929\n"
          ]
        }
      ]
    },
    {
      "cell_type": "code",
      "source": [
        "# TODO: Instantiate an ImageDataGenerator object\n",
        "from tensorflow.keras.preprocessing.image import ImageDataGenerator\n",
        "\n",
        "datagen = ImageDataGenerator(horizontal_flip=True)"
      ],
      "metadata": {
        "id": "JZXFzRb-vbVv"
      },
      "execution_count": 9,
      "outputs": []
    },
    {
      "cell_type": "code",
      "source": [
        "# TODO: train your model\n",
        "batch_size = 1024\n",
        "model.fit_generator(datagen.flow(X_train_norm, y_train_cat, batch_size=batch_size),\n",
        "                    validation_data=(X_test_norm, y_test_cat), callbacks=callbacks,\n",
        "                    steps_per_epoch=len(X_train_norm) / batch_size, epochs=50)"
      ],
      "metadata": {
        "id": "J_8WNuV6OplK",
        "outputId": "cb47be01-e861-41f8-9982-77f113c184ae",
        "colab": {
          "base_uri": "https://localhost:8080/"
        }
      },
      "execution_count": 12,
      "outputs": [
        {
          "output_type": "stream",
          "name": "stderr",
          "text": [
            "<ipython-input-12-0542d4a0f97d>:3: UserWarning: `Model.fit_generator` is deprecated and will be removed in a future version. Please use `Model.fit`, which supports generators.\n",
            "  model.fit_generator(datagen.flow(X_train_norm, y_train_cat, batch_size=batch_size),\n"
          ]
        },
        {
          "output_type": "stream",
          "name": "stdout",
          "text": [
            "Epoch 1/50\n",
            "58/58 [==============================] - 34s 564ms/step - loss: 0.2597 - accuracy: 0.9055 - val_loss: 0.2932 - val_accuracy: 0.8950\n",
            "Epoch 2/50\n",
            "58/58 [==============================] - 22s 371ms/step - loss: 0.2561 - accuracy: 0.9077 - val_loss: 0.2912 - val_accuracy: 0.8952\n",
            "Epoch 3/50\n",
            "58/58 [==============================] - 22s 371ms/step - loss: 0.2533 - accuracy: 0.9082 - val_loss: 0.2972 - val_accuracy: 0.8897\n",
            "Epoch 4/50\n",
            "58/58 [==============================] - 23s 385ms/step - loss: 0.2499 - accuracy: 0.9092 - val_loss: 0.2955 - val_accuracy: 0.8952\n",
            "Epoch 5/50\n",
            "58/58 [==============================] - 25s 420ms/step - loss: 0.2514 - accuracy: 0.9081 - val_loss: 0.2910 - val_accuracy: 0.8953\n",
            "Epoch 6/50\n",
            "58/58 [==============================] - 22s 373ms/step - loss: 0.2482 - accuracy: 0.9097 - val_loss: 0.2889 - val_accuracy: 0.8967\n",
            "Epoch 7/50\n",
            "58/58 [==============================] - 22s 375ms/step - loss: 0.2481 - accuracy: 0.9094 - val_loss: 0.2997 - val_accuracy: 0.8891\n",
            "Epoch 8/50\n",
            "58/58 [==============================] - 24s 418ms/step - loss: 0.2475 - accuracy: 0.9096 - val_loss: 0.2869 - val_accuracy: 0.8987\n",
            "Epoch 9/50\n",
            "58/58 [==============================] - 24s 417ms/step - loss: 0.2440 - accuracy: 0.9112 - val_loss: 0.2839 - val_accuracy: 0.8998\n",
            "Epoch 10/50\n",
            "58/58 [==============================] - 22s 384ms/step - loss: 0.2388 - accuracy: 0.9123 - val_loss: 0.2844 - val_accuracy: 0.8969\n",
            "Epoch 11/50\n",
            "58/58 [==============================] - 23s 386ms/step - loss: 0.2390 - accuracy: 0.9127 - val_loss: 0.2925 - val_accuracy: 0.8980\n",
            "Epoch 12/50\n",
            "58/58 [==============================] - 22s 372ms/step - loss: 0.2372 - accuracy: 0.9137 - val_loss: 0.2903 - val_accuracy: 0.8948\n",
            "Epoch 13/50\n",
            "58/58 [==============================] - 22s 371ms/step - loss: 0.2353 - accuracy: 0.9138 - val_loss: 0.2829 - val_accuracy: 0.8977\n",
            "Epoch 14/50\n",
            "58/58 [==============================] - 24s 405ms/step - loss: 0.2369 - accuracy: 0.9132 - val_loss: 0.2885 - val_accuracy: 0.8998\n",
            "Epoch 15/50\n",
            "58/58 [==============================] - 23s 402ms/step - loss: 0.2343 - accuracy: 0.9142 - val_loss: 0.2810 - val_accuracy: 0.8996\n",
            "Epoch 16/50\n",
            "58/58 [==============================] - 23s 392ms/step - loss: 0.2276 - accuracy: 0.9167 - val_loss: 0.2809 - val_accuracy: 0.9011\n",
            "Epoch 17/50\n",
            "58/58 [==============================] - 22s 374ms/step - loss: 0.2291 - accuracy: 0.9164 - val_loss: 0.2903 - val_accuracy: 0.8968\n",
            "Epoch 18/50\n",
            "58/58 [==============================] - 22s 375ms/step - loss: 0.2326 - accuracy: 0.9148 - val_loss: 0.2890 - val_accuracy: 0.8975\n",
            "Epoch 19/50\n",
            "58/58 [==============================] - 23s 385ms/step - loss: 0.2271 - accuracy: 0.9167 - val_loss: 0.2837 - val_accuracy: 0.8990\n",
            "Epoch 20/50\n",
            "58/58 [==============================] - 24s 402ms/step - loss: 0.2272 - accuracy: 0.9161 - val_loss: 0.2783 - val_accuracy: 0.9021\n",
            "Epoch 21/50\n",
            "58/58 [==============================] - 22s 372ms/step - loss: 0.2231 - accuracy: 0.9172 - val_loss: 0.2799 - val_accuracy: 0.9006\n",
            "Epoch 22/50\n",
            "58/58 [==============================] - 23s 385ms/step - loss: 0.2216 - accuracy: 0.9186 - val_loss: 0.2837 - val_accuracy: 0.9018\n",
            "Epoch 23/50\n",
            "58/58 [==============================] - 24s 419ms/step - loss: 0.2205 - accuracy: 0.9185 - val_loss: 0.2877 - val_accuracy: 0.8964\n",
            "Epoch 24/50\n",
            "58/58 [==============================] - 22s 370ms/step - loss: 0.2183 - accuracy: 0.9188 - val_loss: 0.2828 - val_accuracy: 0.9021\n",
            "Epoch 25/50\n",
            "58/58 [==============================] - 22s 372ms/step - loss: 0.2183 - accuracy: 0.9195 - val_loss: 0.2812 - val_accuracy: 0.8984\n",
            "Epoch 26/50\n",
            "58/58 [==============================] - 23s 394ms/step - loss: 0.2143 - accuracy: 0.9207 - val_loss: 0.2812 - val_accuracy: 0.9005\n",
            "Epoch 27/50\n",
            "58/58 [==============================] - 24s 406ms/step - loss: 0.2165 - accuracy: 0.9204 - val_loss: 0.2811 - val_accuracy: 0.9015\n",
            "Epoch 28/50\n",
            "58/58 [==============================] - 22s 372ms/step - loss: 0.2149 - accuracy: 0.9216 - val_loss: 0.2816 - val_accuracy: 0.9028\n",
            "Epoch 29/50\n",
            "58/58 [==============================] - 22s 374ms/step - loss: 0.2104 - accuracy: 0.9223 - val_loss: 0.2789 - val_accuracy: 0.9013\n",
            "Epoch 30/50\n",
            "58/58 [==============================] - 24s 418ms/step - loss: 0.2087 - accuracy: 0.9226 - val_loss: 0.2863 - val_accuracy: 0.9031\n"
          ]
        },
        {
          "output_type": "execute_result",
          "data": {
            "text/plain": [
              "<keras.callbacks.History at 0x7fd7653bde40>"
            ]
          },
          "metadata": {},
          "execution_count": 12
        }
      ]
    },
    {
      "cell_type": "code",
      "source": [
        "# TODO: Compute the accuracy of your model\n",
        "from sklearn.metrics import accuracy_score\n",
        "\n",
        "batch_size=1024\n",
        "y_pred_train = to_categorical(model.predict(X_train_norm, batch_size=batch_size).argmax(axis=1), num_classes=10)\n",
        "y_pred_test = to_categorical(model.predict(X_test_norm, batch_size=batch_size).argmax(axis=1), num_classes=10)\n",
        "\n",
        "print('accuracy on train with CNN:', accuracy_score(y_pred_train, y_train_cat))\n",
        "print('accuracy on test with CNN:', accuracy_score(y_pred_test, y_test_cat))"
      ],
      "metadata": {
        "id": "3Zy62BV4OqmG",
        "outputId": "1d41e064-0eb0-4cc9-ed9a-e83bf78b2bf7",
        "colab": {
          "base_uri": "https://localhost:8080/"
        }
      },
      "execution_count": 13,
      "outputs": [
        {
          "output_type": "stream",
          "name": "stdout",
          "text": [
            "59/59 [==============================] - 9s 144ms/step\n",
            "10/10 [==============================] - 1s 106ms/step\n",
            "accuracy on train with CNN: 0.92435\n",
            "accuracy on test with CNN: 0.9031\n"
          ]
        }
      ]
    },
    {
      "cell_type": "code",
      "source": [],
      "metadata": {
        "id": "-wLWg4UIO2d8"
      },
      "execution_count": null,
      "outputs": []
    }
  ],
  "metadata": {
    "colab": {
      "name": "Welcome To Colaboratory",
      "provenance": []
    },
    "kernelspec": {
      "display_name": "Python 3",
      "name": "python3"
    }
  },
  "nbformat": 4,
  "nbformat_minor": 0
}