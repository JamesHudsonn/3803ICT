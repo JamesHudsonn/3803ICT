{
  "cells": [
    {
      "cell_type": "markdown",
      "metadata": {
        "id": "view-in-github",
        "colab_type": "text"
      },
      "source": [
        "<a href=\"https://colab.research.google.com/github/JamesHudsonn/3803ICT/blob/main/notebooks/colab-fashion.ipynb\" target=\"_parent\"><img src=\"https://colab.research.google.com/assets/colab-badge.svg\" alt=\"Open In Colab\"/></a>"
      ]
    },
    {
      "cell_type": "markdown",
      "metadata": {
        "id": "-pVhOfzLx9us"
      },
      "source": [
        "# Using Google Colab with GitHub\n",
        "\n"
      ]
    },
    {
      "cell_type": "code",
      "source": [
        "from tensorflow.keras.datasets import fashion_mnist\n",
        "\n",
        "#TODO: load dataset\n",
        "(X_train, y_train), (X_test, y_test) = fashion_mnist.load_data()\n",
        "\n",
        "#TODO: Resample the dataset if needed\n",
        "# X_train = ...\n",
        "# y_train = ...\n",
        "# X_test = ...\n",
        "# y_test = ...\n",
        "\n",
        "X_train.shape"
      ],
      "metadata": {
        "colab": {
          "base_uri": "https://localhost:8080/"
        },
        "id": "n0Qe1iTuSema",
        "outputId": "2c01eac6-ae4b-4386-d06c-040eb4ee9e93"
      },
      "execution_count": 1,
      "outputs": [
        {
          "output_type": "stream",
          "name": "stdout",
          "text": [
            "Downloading data from https://storage.googleapis.com/tensorflow/tf-keras-datasets/train-labels-idx1-ubyte.gz\n",
            "29515/29515 [==============================] - 0s 0us/step\n",
            "Downloading data from https://storage.googleapis.com/tensorflow/tf-keras-datasets/train-images-idx3-ubyte.gz\n",
            "26421880/26421880 [==============================] - 0s 0us/step\n",
            "Downloading data from https://storage.googleapis.com/tensorflow/tf-keras-datasets/t10k-labels-idx1-ubyte.gz\n",
            "5148/5148 [==============================] - 0s 0us/step\n",
            "Downloading data from https://storage.googleapis.com/tensorflow/tf-keras-datasets/t10k-images-idx3-ubyte.gz\n",
            "4422102/4422102 [==============================] - 0s 0us/step\n"
          ]
        },
        {
          "output_type": "execute_result",
          "data": {
            "text/plain": [
              "(60000, 28, 28)"
            ]
          },
          "metadata": {},
          "execution_count": 1
        }
      ]
    },
    {
      "cell_type": "code",
      "execution_count": 7,
      "metadata": {
        "colab": {
          "base_uri": "https://localhost:8080/",
          "height": 469
        },
        "id": "3VQqVi-3ScBC",
        "outputId": "e5876d7d-f10f-4299-f196-1b52ce0aa41d"
      },
      "outputs": [
        {
          "output_type": "display_data",
          "data": {
            "text/plain": [
              "<Figure size 640x480 with 1 Axes>"
            ],
            "image/png": "[encoded data removed]"
          },
          "metadata": {}
        },
        {
          "output_type": "stream",
          "name": "stdout",
          "text": [
            "54222\n"
          ]
        }
      ],
      "source": [
        "# TODO: Explore the data, display some input images\n",
        "%matplotlib inline\n",
        "import matplotlib.pyplot as plt\n",
        "import numpy as np\n",
        "\n",
        "label_class = ['top', 'trouser', 'pullover', 'dress', 'coat', 'sandal', 'shirt', 'sneaker', 'bag', 'ankle boot']\n",
        "\n",
        "# np.random.seed(0)\n",
        "idx = np.random.randint(X_train.shape[0])\n",
        "\n",
        "plt.imshow(X_train[idx], cmap='gray_r')\n",
        "plt.title(label_class[y_train[idx]])\n",
        "plt.show()"
      ]
    },
    {
      "cell_type": "code",
      "source": [
        "# TODO: Make the data preparation\n",
        "from tensorflow.keras.utils import to_categorical\n",
        "\n",
        "y_train_cat = to_categorical(y_train, num_classes = 10)\n",
        "y_test_cat = to_categorical(y_test, num_classes = 10)\n",
        "\n",
        "X_train_norm = X_train/255\n",
        "X_test_norm = X_test/255\n",
        "\n",
        "# TODO: reshape the image data (2D array) into input 1D array for a neural network\n",
        "print(np.shape(X_train_norm))\n",
        "X_train_norm = X_train_norm.reshape(X_train_norm.shape[0], np.prod(X_train_norm.shape[1:]))\n",
        "print(np.shape(X_train_norm))\n",
        "X_test_norm = X_test_norm.reshape(X_test_norm.shape[0], np.prod(X_test_norm.shape[1:]))"
      ],
      "metadata": {
        "colab": {
          "base_uri": "https://localhost:8080/"
        },
        "id": "ZzptzdxWUIod",
        "outputId": "cc691669-c23a-4420-940c-70bb2b2a8029"
      },
      "execution_count": 10,
      "outputs": [
        {
          "output_type": "stream",
          "name": "stdout",
          "text": [
            "(60000, 28, 28)\n",
            "(60000, 784)\n"
          ]
        }
      ]
    },
    {
      "cell_type": "code",
      "source": [
        "# TODO: Build your model\n",
        "from tensorflow.keras.models import Sequential\n",
        "from tensorflow.keras.layers import Dense\n",
        "\n",
        "def my_model(input_dim):\n",
        "    # Create the Sequential object\n",
        "    model = Sequential()\n",
        "\n",
        "    # Add 2 dense layers with 10 neurons each using sigmoid or relu activation\n",
        "    model.add(Dense(10, input_dim=input_dim, activation='sigmoid'))\n",
        "    model.add(Dense(10, activation='sigmoid'))\n",
        "    \n",
        "    # Add the output layer with one unit: the predicted result\n",
        "    model.add(Dense(10, activation='softmax'))\n",
        "    \n",
        "    return model\n",
        "\n",
        "my_model(X_train_norm.shape[1]).summary()"
      ],
      "metadata": {
        "colab": {
          "base_uri": "https://localhost:8080/"
        },
        "id": "0cUnJt-DUKIe",
        "outputId": "f94b8593-0167-444e-bf24-23deddd79c22"
      },
      "execution_count": 15,
      "outputs": [
        {
          "output_type": "stream",
          "name": "stdout",
          "text": [
            "Model: \"sequential\"\n",
            "_________________________________________________________________\n",
            " Layer (type)                Output Shape              Param #   \n",
            "=================================================================\n",
            " dense (Dense)               (None, 10)                7850      \n",
            "                                                                 \n",
            " dense_1 (Dense)             (None, 10)                110       \n",
            "                                                                 \n",
            " dense_2 (Dense)             (None, 10)                110       \n",
            "                                                                 \n",
            "=================================================================\n",
            "Total params: 8,070\n",
            "Trainable params: 8,070\n",
            "Non-trainable params: 0\n",
            "_________________________________________________________________\n"
          ]
        }
      ]
    },
    {
      "cell_type": "code",
      "source": [
        "import os\n",
        "\n",
        "#https://stackoverflow.com/questions/53014306/error-15-initializing-libiomp5-dylib-but-found-libiomp5-dylib-already-initial\n",
        "# os.environ['KMP_DUPLICATE_LIB_OK']='True' \n",
        "\n",
        "# TODO: Compile and fit your model\n",
        "model = my_model(X_train_norm.shape[1])\n",
        "\n",
        "model.compile(optimizer='adam', loss='categorical_crossentropy', metrics=['accuracy'])\n",
        "\n",
        "model.fit(X_train_norm, y_train_cat, epochs=50, batch_size=128)"
      ],
      "metadata": {
        "colab": {
          "base_uri": "https://localhost:8080/"
        },
        "id": "-W4PbatGUMk6",
        "outputId": "fa114a90-5c5b-4307-815a-0aa4dc326765"
      },
      "execution_count": 17,
      "outputs": [
        {
          "output_type": "stream",
          "name": "stdout",
          "text": [
            "Epoch 1/50\n",
            "469/469 [==============================] - 3s 2ms/step - loss: 1.9818 - accuracy: 0.4956\n",
            "Epoch 2/50\n",
            "469/469 [==============================] - 1s 2ms/step - loss: 1.2921 - accuracy: 0.6769\n",
            "Epoch 3/50\n",
            "469/469 [==============================] - 1s 2ms/step - loss: 0.9080 - accuracy: 0.7272\n",
            "Epoch 4/50\n",
            "469/469 [==============================] - 1s 3ms/step - loss: 0.7453 - accuracy: 0.7768\n",
            "Epoch 5/50\n",
            "469/469 [==============================] - 2s 4ms/step - loss: 0.6501 - accuracy: 0.8069\n",
            "Epoch 6/50\n",
            "469/469 [==============================] - 1s 3ms/step - loss: 0.5791 - accuracy: 0.8243\n",
            "Epoch 7/50\n",
            "469/469 [==============================] - 1s 2ms/step - loss: 0.5270 - accuracy: 0.8354\n",
            "Epoch 8/50\n",
            "469/469 [==============================] - 1s 2ms/step - loss: 0.4913 - accuracy: 0.8420\n",
            "Epoch 9/50\n",
            "469/469 [==============================] - 1s 2ms/step - loss: 0.4663 - accuracy: 0.8468\n",
            "Epoch 10/50\n",
            "469/469 [==============================] - 1s 2ms/step - loss: 0.4486 - accuracy: 0.8512\n",
            "Epoch 11/50\n",
            "469/469 [==============================] - 1s 2ms/step - loss: 0.4357 - accuracy: 0.8534\n",
            "Epoch 12/50\n",
            "469/469 [==============================] - 1s 2ms/step - loss: 0.4251 - accuracy: 0.8558\n",
            "Epoch 13/50\n",
            "469/469 [==============================] - 1s 2ms/step - loss: 0.4167 - accuracy: 0.8589\n",
            "Epoch 14/50\n",
            "469/469 [==============================] - 1s 2ms/step - loss: 0.4095 - accuracy: 0.8607\n",
            "Epoch 15/50\n",
            "469/469 [==============================] - 2s 4ms/step - loss: 0.4037 - accuracy: 0.8627\n",
            "Epoch 16/50\n",
            "469/469 [==============================] - 2s 3ms/step - loss: 0.3977 - accuracy: 0.8634\n",
            "Epoch 17/50\n",
            "469/469 [==============================] - 1s 2ms/step - loss: 0.3928 - accuracy: 0.8648\n",
            "Epoch 18/50\n",
            "469/469 [==============================] - 1s 2ms/step - loss: 0.3888 - accuracy: 0.8666\n",
            "Epoch 19/50\n",
            "469/469 [==============================] - 1s 2ms/step - loss: 0.3845 - accuracy: 0.8685\n",
            "Epoch 20/50\n",
            "469/469 [==============================] - 1s 2ms/step - loss: 0.3807 - accuracy: 0.8694\n",
            "Epoch 21/50\n",
            "469/469 [==============================] - 1s 2ms/step - loss: 0.3770 - accuracy: 0.8703\n",
            "Epoch 22/50\n",
            "469/469 [==============================] - 1s 2ms/step - loss: 0.3742 - accuracy: 0.8709\n",
            "Epoch 23/50\n",
            "469/469 [==============================] - 1s 2ms/step - loss: 0.3711 - accuracy: 0.8719\n",
            "Epoch 24/50\n",
            "469/469 [==============================] - 1s 3ms/step - loss: 0.3674 - accuracy: 0.8729\n",
            "Epoch 25/50\n",
            "469/469 [==============================] - 2s 4ms/step - loss: 0.3658 - accuracy: 0.8739\n",
            "Epoch 26/50\n",
            "469/469 [==============================] - 2s 4ms/step - loss: 0.3628 - accuracy: 0.8746\n",
            "Epoch 27/50\n",
            "469/469 [==============================] - 1s 3ms/step - loss: 0.3602 - accuracy: 0.8758\n",
            "Epoch 28/50\n",
            "469/469 [==============================] - 1s 3ms/step - loss: 0.3581 - accuracy: 0.8771\n",
            "Epoch 29/50\n",
            "469/469 [==============================] - 1s 3ms/step - loss: 0.3561 - accuracy: 0.8763\n",
            "Epoch 30/50\n",
            "469/469 [==============================] - 1s 3ms/step - loss: 0.3545 - accuracy: 0.8770\n",
            "Epoch 31/50\n",
            "469/469 [==============================] - 1s 3ms/step - loss: 0.3521 - accuracy: 0.8773\n",
            "Epoch 32/50\n",
            "469/469 [==============================] - 1s 3ms/step - loss: 0.3500 - accuracy: 0.8777\n",
            "Epoch 33/50\n",
            "469/469 [==============================] - 1s 3ms/step - loss: 0.3482 - accuracy: 0.8786\n",
            "Epoch 34/50\n",
            "469/469 [==============================] - 1s 3ms/step - loss: 0.3469 - accuracy: 0.8790\n",
            "Epoch 35/50\n",
            "469/469 [==============================] - 2s 4ms/step - loss: 0.3456 - accuracy: 0.8796\n",
            "Epoch 36/50\n",
            "469/469 [==============================] - 2s 3ms/step - loss: 0.3440 - accuracy: 0.8799\n",
            "Epoch 37/50\n",
            "469/469 [==============================] - 1s 3ms/step - loss: 0.3421 - accuracy: 0.8810\n",
            "Epoch 38/50\n",
            "469/469 [==============================] - 1s 3ms/step - loss: 0.3411 - accuracy: 0.8805\n",
            "Epoch 39/50\n",
            "469/469 [==============================] - 1s 3ms/step - loss: 0.3396 - accuracy: 0.8812\n",
            "Epoch 40/50\n",
            "469/469 [==============================] - 1s 2ms/step - loss: 0.3391 - accuracy: 0.8821\n",
            "Epoch 41/50\n",
            "469/469 [==============================] - 1s 2ms/step - loss: 0.3378 - accuracy: 0.8821\n",
            "Epoch 42/50\n",
            "469/469 [==============================] - 1s 2ms/step - loss: 0.3361 - accuracy: 0.8827\n",
            "Epoch 43/50\n",
            "469/469 [==============================] - 1s 3ms/step - loss: 0.3358 - accuracy: 0.8830\n",
            "Epoch 44/50\n",
            "469/469 [==============================] - 1s 3ms/step - loss: 0.3343 - accuracy: 0.8834\n",
            "Epoch 45/50\n",
            "469/469 [==============================] - 2s 4ms/step - loss: 0.3331 - accuracy: 0.8834\n",
            "Epoch 46/50\n",
            "469/469 [==============================] - 1s 3ms/step - loss: 0.3320 - accuracy: 0.8835\n",
            "Epoch 47/50\n",
            "469/469 [==============================] - 1s 2ms/step - loss: 0.3314 - accuracy: 0.8830\n",
            "Epoch 48/50\n",
            "469/469 [==============================] - 1s 2ms/step - loss: 0.3308 - accuracy: 0.8834\n",
            "Epoch 49/50\n",
            "469/469 [==============================] - 1s 2ms/step - loss: 0.3294 - accuracy: 0.8839\n",
            "Epoch 50/50\n",
            "469/469 [==============================] - 1s 2ms/step - loss: 0.3291 - accuracy: 0.8839\n"
          ]
        },
        {
          "output_type": "execute_result",
          "data": {
            "text/plain": [
              "<keras.callbacks.History at 0x7f75110b05e0>"
            ]
          },
          "metadata": {},
          "execution_count": 17
        }
      ]
    },
    {
      "cell_type": "code",
      "source": [
        "# TODO: Compute the accuracy of your model\n",
        "print('accuracy on train with NN:', model.evaluate(X_train_norm, y_train_cat, verbose=0)[1])\n",
        "print('accuracy on test with NN:', model.evaluate(X_test_norm, y_test_cat, verbose=0)[1])"
      ],
      "metadata": {
        "colab": {
          "base_uri": "https://localhost:8080/"
        },
        "id": "HkcJ2JXWUOK2",
        "outputId": "55c98eb8-96f5-4bc4-99ea-d3aa24872682"
      },
      "execution_count": 18,
      "outputs": [
        {
          "output_type": "stream",
          "name": "stdout",
          "text": [
            "accuracy on train with NN: 0.8865666389465332\n",
            "accuracy on test with NN: 0.8579999804496765\n"
          ]
        }
      ]
    },
    {
      "cell_type": "code",
      "source": [
        "# TODO: Redo the classification with PCA and classification model\n",
        "from sklearn.decomposition import PCA\n",
        "\n",
        "pca = PCA(n_components=0.9)\n",
        "\n",
        "pca.fit(X_train_norm)\n",
        "X_train_pca = pca.transform(X_train_norm)\n",
        "X_test_pca = pca.transform(X_test_norm)"
      ],
      "metadata": {
        "id": "B4Vvd9IqUPON"
      },
      "execution_count": 19,
      "outputs": []
    },
    {
      "cell_type": "code",
      "source": [
        "# TODO: use any classifier you want\n",
        "from sklearn.ensemble import RandomForestClassifier\n",
        "\n",
        "rf = RandomForestClassifier()\n",
        "\n",
        "rf.fit(X_train_pca, y_train)\n",
        "\n",
        "print('score with RF on train', rf.score(X_train_pca, y_train))\n",
        "print('score with RF on train', rf.score(X_test_pca, y_test))"
      ],
      "metadata": {
        "colab": {
          "base_uri": "https://localhost:8080/"
        },
        "id": "1eXGUsF3UP-t",
        "outputId": "d3bc14b5-d2f2-4eac-d012-e8ce4b1d050c"
      },
      "execution_count": 20,
      "outputs": [
        {
          "output_type": "stream",
          "name": "stdout",
          "text": [
            "score with RF on train 1.0\n",
            "score with RF on train 0.8613\n"
          ]
        }
      ]
    },
    {
      "cell_type": "code",
      "source": [],
      "metadata": {
        "id": "xPAszvpyg0eg"
      },
      "execution_count": null,
      "outputs": []
    }
  ],
  "metadata": {
    "colab": {
      "name": "colab-github-demo.ipynb",
      "provenance": [],
      "include_colab_link": true
    },
    "kernelspec": {
      "display_name": "Python 3",
      "name": "python3"
    }
  },
  "nbformat": 4,
  "nbformat_minor": 0
}